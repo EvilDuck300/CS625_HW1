import pandas as pd
import plotly.express as px
import plotly.graph_objects as go
from plotly.subplots import make_subplots

# Load and clean data
df = pd.read_csv('Summer_Sports_Experience__2017_to_2021.csv')

# Convert dates and create period classification
df['Week Start Date'] = pd.to_datetime(df['Week Start Date'])
df['Year'] = df['Week Start Date'].dt.year
df['Period'] = df['Year'].apply(lambda x: 'Pre-COVID' if x < 2020 else ('During-COVID' if x == 2020 else 'Post-COVID'))

# Calculate average attendance by sport and period
team_sports = ["Basketball", "Soccer", "Football", "Baseball", "Volleyball"]
team_sports_data = df[df['Sports Played'].isin(team_sports)].copy()

# Create interactive visualization
fig = make_subplots(rows=2, cols=1,
                    subplot_titles=('Team Sports Attendance Trends', 'Period Comparison'),
                    vertical_spacing=0.15,
                    specs=[[{"type": "scatter"}],
                          [{"type": "bar"}]])

# Add line plot for trends over time
for sport in team_sports:
    sport_data = team_sports_data[team_sports_data['Sports Played'] == sport]
    yearly_avg = sport_data.groupby('Year')['Attendance Sum'].mean()
    
    fig.add_trace(
        go.Scatter(x=yearly_avg.index, 
                  y=yearly_avg.values,
                  name=sport,
                  mode='lines+markers',
                  hovertemplate="<b>%{x}</b><br>" +
                              "Sport: " + sport + "<br>" +
                              "Attendance: %{y:.0f}<br>"),
        row=1, col=1
    )

# Add bar chart for period comparison
period_avg = team_sports_data.groupby(['Period', 'Sports Played'])['Attendance Sum'].mean().reset_index()
fig.add_trace(
    go.Bar(x=period_avg['Sports Played'],
           y=period_avg[period_avg['Period'] == 'Pre-COVID']['Attendance Sum'],
           name='Pre-COVID',
           hovertemplate="<b>%{x}</b><br>" +
                        "Period: Pre-COVID<br>" +
                        "Avg Attendance: %{y:.0f}<br>"),
    row=2, col=1
)

fig.add_trace(
    go.Bar(x=period_avg['Sports Played'],
           y=period_avg[period_avg['Period'] == 'Post-COVID']['Attendance Sum'],
           name='Post-COVID',
           hovertemplate="<b>%{x}</b><br>" +
                        "Period: Post-COVID<br>" +
                        "Avg Attendance: %{y:.0f}<br>"),
    row=2, col=1
)

# Update layout
fig.update_layout(
    title_text="Impact of COVID-19 on Team Sports Attendance",
    height=800,
    showlegend=True,
    hovermode='closest',
    updatemenus=[
        dict(
            type="buttons",
            direction="left",
            buttons=list([
                dict(
                    args=[{"visible": [True, True, True, True, True, True, True]}],
                    label="Show All",
                    method="restyle"
                ),
                dict(
                    args=[{"visible": [True, True, False, False, False, True, True]}],
                    label="Show Top 2 Sports",
                    method="restyle"
                )
            ]),
            pad={"r": 10, "t": 10},
            showactive=True,
            x=0.11,
            xanchor="left",
            y=1.1,
            yanchor="top"
        ),
    ]
)

fig.update_xaxes(title_text="Year", row=1, col=1)
fig.update_xaxes(title_text="Sports", row=2, col=1)
fig.update_yaxes(title_text="Average Attendance", row=1, col=1)
fig.update_yaxes(title_text="Average Attendance", row=2, col=1)

fig.show()